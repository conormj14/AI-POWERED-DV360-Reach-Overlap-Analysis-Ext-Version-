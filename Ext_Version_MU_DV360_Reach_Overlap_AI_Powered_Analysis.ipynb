{
  "cells": [
    {
      "cell_type": "markdown",
      "metadata": {
        "id": "view-in-github",
        "colab_type": "text"
      },
      "source": [
        "<a href=\"https://colab.research.google.com/github/conormj14/AI-POWERED-DV360-Reach-Overlap-Analysis-Ext-Version-/blob/main/Ext_Version_MU_DV360_Reach_Overlap_AI_Powered_Analysis.ipynb\" target=\"_parent\"><img src=\"https://colab.research.google.com/assets/colab-badge.svg\" alt=\"Open In Colab\"/></a>"
      ]
    },
    {
      "cell_type": "markdown",
      "metadata": {
        "id": "_D_ntr-Bbd0t"
      },
      "source": [
        "# **WELCOME TO THE AI POWERED DV360 Reach Overlap Analysis Notebook**"
      ]
    },
    {
      "cell_type": "markdown",
      "metadata": {
        "id": "VS-LomRApBTJ"
      },
      "source": [
        "# Analysis Filters"
      ]
    },
    {
      "cell_type": "code",
      "execution_count": null,
      "metadata": {
        "id": "nit2mkUwqTy9",
        "cellView": "form"
      },
      "outputs": [],
      "source": [
        "CLIENT_NAME = \"\" #@param {type:\"string\"}\n",
        "YOUR_NAME = '' #@param {type:\"string\"}\n",
        "RECEIVER_NAME = '' #@param {type:\"string\"}\n",
        "GOOGLE_SHEET_NAME = \"\"  #@param {type:\"string\"}\n",
        "INCLUDE_ROWS_CONTAINING = ''  #@param {type:\"string\"}\n",
        "INCLUDE_COLS_CONTAINING = ''  #@param {type:\"string\"}\n",
        "EXCLUDE_ROWS_CONTAINING = '' #@param {type:\"string\"}\n",
        "EXCLUDE_COLS_CONTAINING = '' #@param {type:\"string\"}\n",
        "#set the below filter to Insertion Order or Advertiser\n",
        "COMPARISON_DIMENSION = 'Insertion Order' # @param [\"Insertion Order\", \"Advertiser\"]\n",
        "BAR_CHARTS_WIDTH_IN_PIXELS = None #@param {type:\"integer\"}\n",
        "BAR_CHARTS_HEIGHT_IN_PIXELS  = None #@param {type:\"integer\"}\n",
        "ALL_IOs_HEATMAP_SIZE = 'Medium' # @param [\"Small\", \"Medium\", \"Large\"]\n",
        "FILTERED_IOS_HEATMAP_SIZE = 'Medium' # @param [\"Small\", \"Medium\", \"Large\"]\n",
        "VENN_DIAGRAM_IO_ONE = \"\" #@param {type:\"string\"}\n",
        "VENN_DIAGRAM_IO_TWO = \"\" #@param {type:\"string\"}"
      ]
    },
    {
      "cell_type": "markdown",
      "metadata": {
        "id": "MWU37oO-OxPI"
      },
      "source": [
        "## Interactive Trix & Packages"
      ]
    },
    {
      "cell_type": "code",
      "execution_count": null,
      "metadata": {
        "id": "FQYPOmXrSlPm",
        "cellView": "form"
      },
      "outputs": [],
      "source": [
        "# @title\n",
        "#importing pandas\n",
        "#importing sheets package from the colab library and defining your sheet\n",
        "#make sure to edit the name of the google_sheet_name variable below and that the sheet generates correctly below\n",
        "from google.colab import auth\n",
        "auth.authenticate_user()\n",
        "from google.colab import sheets\n",
        "from google import genai\n",
        "from google.genai import types\n",
        "from google.colab import userdata\n",
        "import numpy as np\n",
        "import pandas as pd\n",
        "import seaborn as sns\n",
        "import matplotlib.pyplot as plt\n",
        "from matplotlib_venn import venn2\n",
        "from datetime import datetime\n",
        "from IPython.display import display, Markdown\n",
        "import ipywidgets as widgets\n",
        "import plotly.graph_objects as go\n",
        "from plotly.subplots import make_subplots\n",
        "import plotly.express as px\n",
        "\n",
        "\n",
        "\n",
        "\n",
        "#setting current date\n",
        "current_date = datetime.now()\n",
        "#Formatting current date to DD-MM-YY format\n",
        "formatted_date = current_date.strftime(\"%d/%m/%y\")\n",
        "\n",
        "#Setting sheet name variable based off global sheet name from input text boxes\n",
        "google_sheet_name = GOOGLE_SHEET_NAME\n",
        "\n",
        "\n",
        "#Defining pandas dataframes based on colabs interactive google sheet functionality\n",
        "overlap_df = sheets.InteractiveSheet(title=google_sheet_name, worksheet_name='Reach_Overlap').as_df()\n",
        "#overlap_df = reach_overlap_ws\n",
        "ar_df = sheets.InteractiveSheet(title=google_sheet_name, worksheet_name='Added_Reach_Raw_Data').as_df()\n",
        "spend_df = sheets.InteractiveSheet(title=google_sheet_name, worksheet_name='Spend_Raw_Data').as_df()\n",
        "weekly_reach_df = sheets.InteractiveSheet(title=google_sheet_name, worksheet_name='Weekly_Reach').as_df()\n"
      ]
    },
    {
      "cell_type": "markdown",
      "metadata": {
        "id": "6OohiFX5KsVw"
      },
      "source": [
        "####Model Configuration"
      ]
    },
    {
      "cell_type": "code",
      "execution_count": null,
      "metadata": {
        "id": "ErAc-3k5KRuB"
      },
      "outputs": [],
      "source": [
        "# @title\n",
        "\n",
        "\n",
        "##model = genai.GenerativeModel('gemini-2.0-pro-exp-02-05')\n",
        "#model = genai.GenerativeModel('gemini-2.0-flash-thinking-exp-01-21')\n",
        "#model = genai.GenerativeModel('gemini-2.0-flash')\n",
        "\n",
        "creds = '' #PASS YOUR GEMINI API CREDENTIALS HERE VIA COLAB SECRETS\n",
        "\n",
        "client = genai.Client(api_key=creds)\n",
        "\n",
        "sys_instruct = f\"\"\"You are a highly experienced DV360 Specialist. You specialize in crafting and optimizing programmatic advertising strategies that directly drive incremental sales. You have a deep understanding of the digital advertising landscape.\n",
        "\n",
        "Expertise: Advanced knowledge of programmatic advertising, DV360 platform, audience targeting, campaign optimization, and data analysis. Proven ability to drive incremental sales and demonstrate ROI.\n",
        "\n",
        "Keep in mind when preparing insights that reach cannot be summed.  High Overlap (Duplicate Reach) is good for building frequency, whereas low overlap (Exclusive Reach) is good for building reach.\n",
        "\n",
        "Be assertive and confident but approachable and conversational. Use clear, concise language. Aim for a tone that conveys authority and trustworthiness.  Write succinctly and condense paragraphs avoiding jargon or overly formal language.\n",
        "\n",
        "Ensure output includes:\n",
        "\n",
        "- A brief introduction that summarizes purpose.\n",
        "- A bullet-point list of key findings or recommendations.\n",
        "\n",
        "\n",
        "\n",
        "When prompt starts with \"--\" please refine the text provided using the above information.\"\"\"\n"
      ]
    },
    {
      "cell_type": "markdown",
      "metadata": {
        "id": "_KBGlN8y16GO"
      },
      "source": [
        "## Dataframe & Helper Functions"
      ]
    },
    {
      "cell_type": "code",
      "execution_count": null,
      "metadata": {
        "id": "c86U5X5wmeR1",
        "cellView": "form"
      },
      "outputs": [],
      "source": [
        "# @title\n",
        "\n",
        "def clean_weekly_reach_df(df):\n",
        "    \"\"\"\n",
        "    Converts the 'Week' column to datetime and 'Unique Reach:' columns to specified types.\n",
        "\n",
        "    Args:\n",
        "        df: The input pandas DataFrame with weekly reach data.\n",
        "\n",
        "    Returns:\n",
        "        A cleaned pandas DataFrame.\n",
        "    \"\"\"\n",
        "    # Convert 'Week' column to datetime, coercing errors to NaT\n",
        "    df['Week_Start_Date'] = pd.to_datetime(df['Week'].apply(lambda x: x.split(' - ')[0] if isinstance(x, str) and ' - ' in x else None), format='%Y/%m/%d', errors='coerce')\n",
        "\n",
        "    # Define columns to convert to integer, excluding 'Unique Reach: Average Impression Frequency'\n",
        "    int_cols = [col for col in df.columns if 'Unique Reach:' in col and col != 'Unique Reach: Average Impression Frequency']\n",
        "\n",
        "    # Convert specified columns to integer, coercing errors to NaN and then filling NaN with 0\n",
        "    for col in int_cols:\n",
        "        df[col] = pd.to_numeric(df[col], errors='coerce').fillna(0).astype(int)\n",
        "\n",
        "    # Convert 'Unique Reach: Average Impression Frequency' to float, coercing errors to NaN and then filling NaN with 0\n",
        "    df['Unique Reach: Average Impression Frequency'] = pd.to_numeric(df['Unique Reach: Average Impression Frequency'], errors='coerce').fillna(0).astype(float)\n",
        "\n",
        "    return df\n",
        "\n",
        "def set_dtypes(df):\n",
        "  \"\"\"Takes in a dataframe and converts metric columns to numeric data types\n",
        "  Args:\n",
        "    df: The input pandas DataFrame.\n",
        "  Returns:\n",
        "    A pandas dataframe\"\"\"\n",
        "\n",
        "  dimension_cols = ['Partner', 'Partner ID', 'Country', 'Advertiser', 'Advertiser ID', 'Campaign', 'Campaign ID', 'Insertion Order', 'Insertion Order ID', 'Advertiser Currency']\n",
        "  for col in df.columns:\n",
        "    if col not in dimension_cols:\n",
        "      try:\n",
        "        # Attempt to convert to numeric, coercing errors to NaN\n",
        "        df[col] = pd.to_numeric(df[col], errors='coerce')\n",
        "        # Replace NaN with 0 after numeric conversion\n",
        "        df[col] = df[col].fillna(0)\n",
        "      except Exception as e:\n",
        "        print(f\"Could not convert column {col} to numeric: {e}\")\n",
        "        # If conversion fails, keep the column as is or handle differently\n",
        "        # For now, we'll keep it as is, it might be object or string\n",
        "        pass # Or add other handling like df[col] = df[col].astype(str).fillna('')\n",
        "  return df\n",
        "\n",
        "\n",
        "def overlap_col_cleaner(df):\n",
        "  '''Docstring: This function takes in a Dataframe truncates the irrelevant parts of the column names and then replaces any hyphenated values where no reach overlap was observed to a 0.0 float data type. Ouput: Dataframe'''\n",
        "  new_col_list = []\n",
        "\n",
        "  for col in df.columns:\n",
        "    col = col.split(':')[0]\n",
        "    new_col_list.append(col)\n",
        "\n",
        "  df.columns = new_col_list\n",
        "\n",
        "  df = df.apply(lambda x: pd.to_numeric(x.astype(str).str.replace('-', '0.0', regex=False), errors='coerce'))\n",
        "\n",
        "  return df\n",
        "\n",
        "#defining a function to filter insertion order names for a given input string so that users can focus the analysis on one part of a clients activity based on their naming conventions\n",
        "def filter_io_rows(df, row_filter, rows_to_exclude=None):\n",
        "    \"\"\"\n",
        "    Takes in a dataframe and filters it based on inclusion and exclusion filtering critera\n",
        "\n",
        "    Args:\n",
        "      df (dataframe): input pandas dataframe\n",
        "      row_filter (str): Some criteria to filter the rows of the dataframe based on whether the substring is found within the column header string value\n",
        "      rows_to_exclude (str, optional): Some criteria to exclude the rows of the dataframe based on whether the substring is found within the column header string value. Defaults to None.\n",
        "\n",
        "    Returns:\n",
        "      A filtered pandas dataframe that is a copy of the original input dataframe\n",
        "      \"\"\"\n",
        "\n",
        "    filtered_df = df.copy()\n",
        "    if row_filter:\n",
        "        mask = filtered_df.index.str.contains(row_filter)\n",
        "        filtered_df = filtered_df[mask]\n",
        "\n",
        "    if rows_to_exclude:\n",
        "        exclude_mask = filtered_df.index.str.contains(rows_to_exclude)\n",
        "        filtered_df = filtered_df[~exclude_mask]\n",
        "\n",
        "    return filtered_df\n",
        "\n",
        "\n",
        "def filter_io_cols(df, col_filter, cols_to_exclude=None):\n",
        "  \"\"\"\n",
        "    Takes in a dataframe and filters it based on inclusion and exclusion filtering critera\n",
        "\n",
        "    Args:\n",
        "      df (dataframe): input pandas dataframe\n",
        "      row_filter (str): Some criteria to filter the columns of the dataframe based on whether the substring is found within the column header string value\n",
        "      rows_to_exclude (str, optional): Some criteria to exclude the columns of the dataframe based on whether the substring is found within the column header string value. Defaults to None.\n",
        "\n",
        "    Returns:\n",
        "      A filtered pandas dataframe that is a copy of the original input dataframe\n",
        "      \"\"\"\n",
        "  filtered_df = df.copy()\n",
        "  if col_filter:\n",
        "    filtered_df = filtered_df.filter(like=col_filter)\n",
        "\n",
        "  if cols_to_exclude:\n",
        "    cols = [col for col in filtered_df.columns if cols_to_exclude not in col]\n",
        "    filtered_df = filtered_df[cols]\n",
        "\n",
        "  return filtered_df\n",
        "\n",
        "def clean_dataframe(df, metadata_identifier=\"Report Time:\"):\n",
        "  \"\"\"\n",
        "  Cleans the dataframe by dropping rows containing report metadata.\n",
        "\n",
        "  Args:\n",
        "    df: The input pandas DataFrame.\n",
        "    metadata_identifier: A string that identifies the start of\n",
        "                         metadata rows. Defaults to \"Report Time:\".\n",
        "\n",
        "  Returns:\n",
        "    A cleaned pandas DataFrame with report metadata rows removed.\n",
        "  \"\"\"\n",
        "  # Drop columns with empty string as name\n",
        "  df = df.drop(columns=[''], errors='ignore')\n",
        "\n",
        "  # Find the index of the row containing the metadata identifier in the first column (iloc[:, 0])\n",
        "  # This assumes the metadata identifier is in the first column before setting headers\n",
        "  metadata_index = df[df.iloc[:, 0].astype(str) == metadata_identifier].index[0]\n",
        "\n",
        "\n",
        "  # Drop rows starting from the metadata index\n",
        "  cleaned_df = df.drop(df.index[metadata_index:])\n",
        "\n",
        "  # Replace empty strings with NaN\n",
        "  cleaned_df = cleaned_df.replace('', np.nan)\n",
        "\n",
        "  # Drop rows with all NaN values\n",
        "  cleaned_df = cleaned_df.dropna(how='all')\n",
        "\n",
        "  return cleaned_df\n",
        "\n"
      ]
    },
    {
      "cell_type": "markdown",
      "source": [
        "###Cleaning the dataframes"
      ],
      "metadata": {
        "id": "AvVa_Qy2Btw6"
      }
    },
    {
      "cell_type": "code",
      "execution_count": null,
      "metadata": {
        "id": "d2xUtfchZ7Rn",
        "cellView": "form"
      },
      "outputs": [],
      "source": [
        "# @title\n",
        "# Apply the cleaning function to weekly_reach_df\n",
        "weekly_reach_df = clean_weekly_reach_df(weekly_reach_df)\n",
        "#Apply df cleaner func to other dfs\n",
        "ar_df = clean_dataframe(ar_df, metadata_identifier=\"Report Time:\")\n",
        "ar_df = set_dtypes(ar_df)\n",
        "spend_df = clean_dataframe(spend_df, metadata_identifier=\"Report Time:\")\n",
        "spend_df = set_dtypes(spend_df)\n",
        "overlap_df = clean_dataframe(overlap_df, metadata_identifier=\"Report Time:\")\n",
        "overlap_df = set_dtypes(overlap_df)\n",
        "\n",
        "print(\"Dataframes have been successfully cleaned!\")"
      ]
    },
    {
      "cell_type": "markdown",
      "metadata": {
        "id": "2PXd9bTTlLQd"
      },
      "source": [
        "###Weekly Reach Visualisation Campaign Filter (Note: You have to cahnge the filter and then run the weekly reach graph cell again to change the graph)"
      ]
    },
    {
      "cell_type": "code",
      "execution_count": null,
      "metadata": {
        "id": "VUILz589kDt2",
        "cellView": "form"
      },
      "outputs": [],
      "source": [
        "# @title\n",
        "\n",
        "\n",
        "# Create a dropdown widget for the 'Campaign' column in weekly_reach_df\n",
        "camp_dropdown = widgets.Dropdown(\n",
        "    options=weekly_reach_df['Campaign'].unique().tolist(),\n",
        "    description='Campaign:',\n",
        "    disabled=False,\n",
        ")\n",
        "\n",
        "\n",
        "# Display the dropdown\n",
        "display(camp_dropdown)"
      ]
    },
    {
      "cell_type": "markdown",
      "metadata": {
        "id": "Y6svqeifxJbz"
      },
      "source": [
        "##Reach & Frequency Time Series Analysis"
      ]
    },
    {
      "cell_type": "code",
      "execution_count": null,
      "metadata": {
        "cellView": "form",
        "id": "1b273e92"
      },
      "outputs": [],
      "source": [
        "# @title\n",
        "\n",
        "SELECTED_CAMPAIGN = camp_dropdown.value\n",
        "\n",
        "# Drop rows where 'Week_Start_Date' is NaT (invalid date entries)\n",
        "weekly_reach_df = weekly_reach_df.dropna(subset=['Week_Start_Date'])\n",
        "\n",
        "# Filter the DataFrame based on the selected campaign\n",
        "filtered_weekly_reach_df = weekly_reach_df[weekly_reach_df['Campaign'] == SELECTED_CAMPAIGN]\n",
        "\n",
        "# Create figure with secondary y-axis\n",
        "fig = make_subplots(specs=[[{\"secondary_y\": True}]])\n",
        "\n",
        "# Add bars for Impression Reach\n",
        "fig.add_trace(\n",
        "    go.Bar(x=filtered_weekly_reach_df['Week_Start_Date'], y=filtered_weekly_reach_df['Unique Reach: Impression Reach'], name='Unique Reach'),\n",
        "    secondary_y=False,\n",
        ")\n",
        "\n",
        "# Add bars for Incremental Reach\n",
        "fig.add_trace(\n",
        "    go.Bar(x=filtered_weekly_reach_df['Week_Start_Date'], y=filtered_weekly_reach_df['Unique Reach: Incremental Impression Reach'], name='Incremental Reach'),\n",
        "    secondary_y=False,\n",
        ")\n",
        "\n",
        "# Add lines for Average Impression Frequency\n",
        "fig.add_trace(\n",
        "    go.Scatter(x=filtered_weekly_reach_df['Week_Start_Date'], y=filtered_weekly_reach_df['Unique Reach: Average Impression Frequency'], name='Average Frequency', marker=dict(size=10)),\n",
        "    secondary_y=True,\n",
        ")\n",
        "\n",
        "# Add figure title\n",
        "fig.update_layout(\n",
        "    title_text=\"Reach and Frequency Over Time: \" + SELECTED_CAMPAIGN\n",
        ")\n",
        "\n",
        "# Set x-axis title\n",
        "fig.update_xaxes(title_text=\"Week\")\n",
        "\n",
        "# Set y-axes titles\n",
        "fig.update_yaxes(title_text=\"Unique Reach (Users)\", secondary_y=False)\n",
        "fig.update_yaxes(title_text=\"Average Frequency\", secondary_y=True)\n",
        "\n",
        "fig.show()"
      ]
    },
    {
      "cell_type": "markdown",
      "source": [
        "###Media Unification Dataframe"
      ],
      "metadata": {
        "id": "NNIwWvEHDKF2"
      }
    },
    {
      "cell_type": "code",
      "execution_count": null,
      "metadata": {
        "id": "XWalCSMHxq_H",
        "collapsed": true,
        "cellView": "form"
      },
      "outputs": [],
      "source": [
        "# @title\n",
        "mu_df = ar_df.merge(spend_df, on='Campaign ID', how='left', suffixes=(None, \"_y\")).drop(columns=['Advertiser_y', 'Advertiser ID_y', 'Campaign_y'])\n",
        "mu_df = mu_df.replace('-', 0,inplace=False)\n",
        "mu_df = mu_df.astype({'Unique Reach: Added Impression Reach From Frequency Cap': int, 'Unique Reach: Impression Reach':int,'Unique Reach: Impression Reach (Co-Viewed)':int, 'Revenue (Adv Currency)':float, 'Media Cost (Advertiser Currency)':float, 'Platform Fee (Adv Currency)':float})\n",
        "#mu_df = pd.to_numeric(mu_df[['Unique Reach: Added Impression Reach From Frequency Cap', 'Unique Reach: Impression Reach']], errors='coerce')\n",
        "#dropping rows with 0 reach\n",
        "mu_df = mu_df[mu_df['Unique Reach: Impression Reach'] != 0].reset_index(drop=True)\n",
        "#dropping rows with 0 spend\n",
        "mu_df = mu_df.dropna(subset=['Revenue (Adv Currency)']).reset_index(drop=True)\n",
        "#rounding revenue spend to 2 decimals\n",
        "mu_df['Revenue (Adv Currency)'] = round(mu_df['Revenue (Adv Currency)'],2)\n",
        "#adding baseline_reach\n",
        "mu_df['baseline_reach'] = mu_df['Unique Reach: Impression Reach'] - mu_df['Unique Reach: Added Impression Reach From Frequency Cap']\n",
        "#adding CPU baseline\n",
        "mu_df['CPU_baseline'] = round(mu_df['Revenue (Adv Currency)'] / mu_df['baseline_reach'],2)\n",
        "#adding reach savings\n",
        "mu_df['reach_savings'] = round(mu_df['Unique Reach: Added Impression Reach From Frequency Cap'] * mu_df['CPU_baseline'],2)\n",
        "#adding added reach percentage\n",
        "mu_df['added_reach_percentage'] = round(mu_df['Unique Reach: Added Impression Reach From Frequency Cap'] / mu_df['Unique Reach: Impression Reach'],2)\n",
        "#adding media_fees\n",
        "mu_df['media_fees'] = round(mu_df['Revenue (Adv Currency)'] - mu_df['Media Cost (Advertiser Currency)'],2)\n",
        "#checking output df\n",
        "mu_df.head()"
      ]
    },
    {
      "cell_type": "code",
      "execution_count": null,
      "metadata": {
        "cellView": "form",
        "id": "lhJtwdbWGyFI"
      },
      "outputs": [],
      "source": [
        "# @title\n",
        "\n",
        "fig = go.Figure()\n",
        "\n",
        "fig.add_trace(go.Bar(\n",
        "    x=mu_df['Campaign'],\n",
        "    y=mu_df['baseline_reach'],\n",
        "    name='Baseline Reach',\n",
        "    marker_color='lightgreen'\n",
        "))\n",
        "\n",
        "fig.add_trace(go.Bar(\n",
        "    x=mu_df['Campaign'],\n",
        "    y=mu_df['Unique Reach: Added Impression Reach From Frequency Cap'],\n",
        "    name='Added Reach (Frequency Cap)',\n",
        "    marker_color='darkgreen'\n",
        "))\n",
        "\n",
        "fig.update_layout(\n",
        "    barmode='stack',\n",
        "    title_text='Baseline Reach and Added Reach by Campaign',\n",
        "    xaxis_title=\"Campaign\",\n",
        "    yaxis_title=\"Reach\",\n",
        "    legend_title=\"Reach Type\"\n",
        ")\n",
        "\n",
        "fig.show()"
      ]
    },
    {
      "cell_type": "code",
      "execution_count": null,
      "metadata": {
        "cellView": "form",
        "id": "GB-mIoAwBSz2"
      },
      "outputs": [],
      "source": [
        "# @title\n",
        "fig = go.Figure()\n",
        "\n",
        "fig.add_trace(go.Bar(\n",
        "    x=mu_df['Campaign'],\n",
        "    y=mu_df['reach_savings'],\n",
        "    name='Reach Savings Value',\n",
        "    marker_color='lightgreen'\n",
        "))\n",
        "\n",
        "fig.add_trace(go.Bar(\n",
        "    x=mu_df['Campaign'],\n",
        "    y=mu_df['media_fees'],\n",
        "    name='Total Media Fees',\n",
        "    marker_color='darkgreen'\n",
        "))\n",
        "\n",
        "fig.update_layout(\n",
        "\n",
        "    title_text='Reach Savings vs Media Fees',\n",
        "    xaxis_title=\"Campaign\",\n",
        "    yaxis_title=\"$\",\n",
        "    legend_title=\"Media Unification Value Quantification\"\n",
        ")\n",
        "\n",
        "fig.show()"
      ]
    },
    {
      "cell_type": "code",
      "execution_count": null,
      "metadata": {
        "cellView": "form",
        "id": "fZ3eMNDw2rNv"
      },
      "outputs": [],
      "source": [
        "# @title\n",
        "total_reach_savings = mu_df['reach_savings'].sum()\n",
        "total_added_reach_pct = mu_df['Unique Reach: Added Impression Reach From Frequency Cap'].sum() / mu_df['baseline_reach'].sum()\n",
        "total_media_fees = mu_df['Revenue (Adv Currency)'].sum() - mu_df['Media Cost (Advertiser Currency)'].sum()\n",
        "\n",
        "display(Markdown(f\"# Total Reach Savings: ${total_reach_savings:,.2f}\"))\n",
        "display(Markdown(f\"# Total Media Fees: ${total_media_fees:,.2f}\"))\n",
        "display(Markdown(f\"# Total Added Reach Pct: {total_added_reach_pct:.0%}\"))"
      ]
    },
    {
      "cell_type": "code",
      "execution_count": null,
      "metadata": {
        "cellView": "form",
        "id": "82LlxzH5_wWQ"
      },
      "outputs": [],
      "source": [
        "# @title\n",
        "\n",
        "fig = go.Figure(data=[\n",
        "    go.Bar(name='Total Reach Savings', x=['Metrics'], y=[total_reach_savings], marker_color='green'),\n",
        "    go.Bar(name='Total Media Fees', x=['Metrics'], y=[total_media_fees])\n",
        "])\n",
        "\n",
        "fig.update_layout(barmode='group', title='Comparison of Total Reach Savings and Total Media Fees')\n",
        "fig.show()"
      ]
    },
    {
      "cell_type": "markdown",
      "metadata": {
        "id": "Xpg9aKlVvFP9"
      },
      "source": [
        "Reach Overlap Venn Diagram (IO_1 vs IO_2)"
      ]
    },
    {
      "cell_type": "code",
      "execution_count": null,
      "metadata": {
        "cellView": "form",
        "id": "mheIWsHNuarF"
      },
      "outputs": [],
      "source": [
        "# @title\n",
        "if VENN_DIAGRAM_IO_ONE != '' and VENN_DIAGRAM_IO_TWO != '':\n",
        "  io_1 = VENN_DIAGRAM_IO_ONE\n",
        "  io_2 = VENN_DIAGRAM_IO_TWO\n",
        "\n",
        "  try:\n",
        "    vd_metrics_df = overlap_df[overlap_df['Insertion Order'].isin([io_1, io_2])][['Insertion Order','Unique Reach: Duplicate Total Reach', 'Unique Reach: Exclusive Total Reach', io_1 + ': Unique Reach: Overlap Total Reach', io_2 + ': Unique Reach: Overlap Total Reach']]\n",
        "    vd_metrics_df['Unique Reach'] = vd_metrics_df['Unique Reach: Duplicate Total Reach'] + vd_metrics_df['Unique Reach: Exclusive Total Reach']\n",
        "    vd_metrics_df = vd_metrics_df.rename(columns={'Unique Reach: Duplicate Total Reach': 'Duplicate Total Reach', 'Unique Reach: Exclusive Total Reach': 'Exclusive Total Reach', io_1 + ': Unique Reach: Overlap Total Reach': io_1 + ': Overlap Reach',io_2 + ': Unique Reach: Overlap Total Reach':  io_2 + ': Overlap Reach' })\n",
        "    vd_metrics_df = vd_metrics_df.drop(columns=['Duplicate Total Reach', 'Exclusive Total Reach'])\n",
        "\n",
        "    io_1_df = vd_metrics_df[vd_metrics_df['Insertion Order'] == io_1]\n",
        "    io_2_df = vd_metrics_df[vd_metrics_df['Insertion Order'] == io_2]\n",
        "\n",
        "    plt.figure(figsize=(15,15))\n",
        "\n",
        "    set_a = io_1_df['Unique Reach'].sum()\n",
        "    set_b = io_2_df['Unique Reach'].sum()\n",
        "    set_c = io_1_df[io_2 + ': Overlap Reach'].sum()\n",
        "\n",
        "    v = venn2(subsets=(set_a,set_b,set_c), set_labels=(io_1+' Unique Reach',io_2+' Unique Reach', 'Reach Overlap'))\n",
        "\n",
        "    # Customize labels\n",
        "    for text in v.set_labels:\n",
        "        text.set_fontsize(12)\n",
        "    #these are the numbers in the circles\n",
        "    for text in v.subset_labels:\n",
        "        if text:\n",
        "            text.set_fontsize(14)\n",
        "\n",
        "\n",
        "    plt.title('Reach Overlap Venn Diagram (Unique Users)')\n",
        "    plt.show()\n",
        "\n",
        "  except KeyError as e:\n",
        "    #handling key errors that may arise from the fact that the venn diagram filter input cannot be found in the sheet\n",
        "    print(\"Could not find the value(s) of VENN_DIAGRAM_IO_ONE and/or VENN_DIAGRAM_IO_TWO filters within the google sheet. Please ensure these values exactly match (case sensitive) what is in your 'Insertion Order' or 'Advertiser' column of your sheet before re-running.\")\n",
        "    print(\"You can also run the cells below if you wish to skip this part of the analysis or simply leave the venn diagram filters blank and run all cells again\")\n",
        "    print(f\"Invalid input. Details: {e}\")\n",
        "\n"
      ]
    },
    {
      "cell_type": "markdown",
      "metadata": {
        "id": "h9YCrOHcxDYB"
      },
      "source": [
        "## Venn Diagram Gemini AI Insights"
      ]
    },
    {
      "cell_type": "code",
      "execution_count": null,
      "metadata": {
        "cellView": "form",
        "id": "N34Go1tTv10R"
      },
      "outputs": [],
      "source": [
        "# @title\n",
        "\n",
        "try:\n",
        "  if VENN_DIAGRAM_IO_ONE != '' and VENN_DIAGRAM_IO_TWO != '':\n",
        "    csv_data = vd_metrics_df.to_csv(index=False)\n",
        "\n",
        "    prompt = f\"\"\"\n",
        "    Analyze the following DV360 reach overlap data:\n",
        "    {csv_data}\n",
        "\n",
        "    There are three sets as defined by the following code:\n",
        "\n",
        "    io_1_df = vd_metrics_df[vd_metrics_df['Insertion Order'] == io_1]\n",
        "    io_2_df = vd_metrics_df[vd_metrics_df['Insertion Order'] == io_2]\n",
        "\n",
        "    set_a = io_1_df['Unique Reach'].sum()\n",
        "    set_b = io_2_df['Unique Reach'].sum()\n",
        "    set_c = io_1_df[io_2 + ' Overlap Total Reach'].sum()\n",
        "\n",
        "    v = venn2(subsets=(set_a,set_b,set_c), set_labels=(io_1+' Unique Reach',io_2+' Unique Reach', 'Reach Overlap'))\n",
        "\n",
        "    Note that you cannot just add the unique reach values of each set. Write concise insights into this data.\n",
        "\n",
        "    \"\"\"\n",
        "\n",
        "    response = client.models.generate_content(\n",
        "      model=\"gemini-2.0-flash\",\n",
        "      config=types.GenerateContentConfig(\n",
        "          system_instruction=sys_instruct),\n",
        "      contents=prompt)\n",
        "\n",
        "    #response = model.generate_content(prompt)\n",
        "    vd_insights = response.text\n",
        "    print(vd_insights)\n",
        "except NameError as e:\n",
        "  print('Cannot find data for venn diagram comparison. Please check the data for the two insertion orders you wish to compare is in your sheet and that the names of these are exactly matching in the notebook venn diagram filters')\n",
        "  print(f\"Invalid input. Details: {e}\")"
      ]
    },
    {
      "cell_type": "markdown",
      "metadata": {
        "id": "s136OUkPzziR"
      },
      "source": [
        "### Underlying Venn Diagram Data\n"
      ]
    },
    {
      "cell_type": "code",
      "execution_count": null,
      "metadata": {
        "cellView": "form",
        "id": "vTART-UBzj0Y"
      },
      "outputs": [],
      "source": [
        "# @title\n",
        "\n",
        "try:\n",
        "  if VENN_DIAGRAM_IO_ONE != '' and VENN_DIAGRAM_IO_TWO != '':\n",
        "    display(vd_metrics_df)\n",
        "except KeyError as e:\n",
        "    #handling key errors that may arise from missing 'Insertion Order' or 'Advertiser' errors\n",
        "    print('Could not find the Insertion Order and/or Advertiser columns in your sheets')\n",
        "    print(f\"Invalid input. Details: {e}\")\n",
        "\n",
        "\n"
      ]
    },
    {
      "cell_type": "markdown",
      "metadata": {
        "id": "fM2cHFG3w9rC"
      },
      "source": [
        "#Exclusive Reach"
      ]
    },
    {
      "cell_type": "code",
      "execution_count": null,
      "metadata": {
        "cellView": "form",
        "id": "rlu0M-pZt3wq"
      },
      "outputs": [],
      "source": [
        "# @title\n",
        "\n",
        "try:\n",
        "  #Create the bar plot\n",
        "  fig = px.bar(overlap_df, x=COMPARISON_DIMENSION, y='Unique Reach: Exclusive Total Reach', color='Unique Reach: Exclusive Total Reach', title=COMPARISON_DIMENSION + ' Exclusive Reach', width=BAR_CHARTS_WIDTH_IN_PIXELS, height=BAR_CHARTS_HEIGHT_IN_PIXELS, color_continuous_scale='darkmint')\n",
        "  fig.show()\n",
        "except ValueError as e:\n",
        "    #handling key errors that may arise from missing 'Insertion Order' or 'Advertiser' errors\n",
        "    print('Could not find the Insertion Order and/or Advertiser values within those columns in your sheets')\n",
        "    print(f\"Invalid input. Details: {e}\")"
      ]
    },
    {
      "cell_type": "markdown",
      "metadata": {
        "id": "nIkXiOZsz-EC"
      },
      "source": [
        "##Gemini AI Exclusive Reach Insights"
      ]
    },
    {
      "cell_type": "code",
      "execution_count": null,
      "metadata": {
        "cellView": "form",
        "id": "K1yEpWlxxkgQ"
      },
      "outputs": [],
      "source": [
        "# @title\n",
        "\n",
        "try:\n",
        "\n",
        "  csv_data = overlap_df.to_csv(index=False)\n",
        "\n",
        "  prompt = f\"\"\"\n",
        "  Analyze the following DV360 exclusive reach data:\n",
        "  {csv_data}\n",
        "\n",
        "  Each of the numerical data in the cells of this csv is representing the exclusive reach that an advertising buy resulted in.\n",
        "\n",
        "  Higher exclusive reach values can be good if an advertiser wants to increase their overall unique reach.\n",
        "\n",
        "  Write some insights into this data and give suggestions on budget optimisation based on the level of exclusive reach between insertion orders.\n",
        "\n",
        "  \"\"\"\n",
        "\n",
        "  response = client.models.generate_content(\n",
        "      model=\"gemini-2.0-flash\",\n",
        "    config=types.GenerateContentConfig(\n",
        "          system_instruction=sys_instruct),\n",
        "      contents=prompt)\n",
        "\n",
        "\n",
        "  exc_reach_insights = response.text\n",
        "  print(exc_reach_insights)\n",
        "except NameError as e:\n",
        "  print('Cannot find Unique Reach: Exclusive Reach data within your sheet')\n",
        "  print(f\"Invalid input. Details: {e}\")"
      ]
    },
    {
      "cell_type": "markdown",
      "metadata": {
        "id": "ufEA3ySixP7k"
      },
      "source": [
        "#Duplicate Reach"
      ]
    },
    {
      "cell_type": "code",
      "execution_count": null,
      "metadata": {
        "cellView": "form",
        "id": "xae6bxTTvVnr"
      },
      "outputs": [],
      "source": [
        "# @title\n",
        "#Create the bar plot\n",
        "\n",
        "try:\n",
        "  fig = px.bar(overlap_df, x=COMPARISON_DIMENSION, y='Unique Reach: Duplicate Total Reach', color='Unique Reach: Duplicate Total Reach', title=COMPARISON_DIMENSION + ' Duplicate Reach', width=BAR_CHARTS_WIDTH_IN_PIXELS, height=BAR_CHARTS_HEIGHT_IN_PIXELS,  color_continuous_scale='darkmint')\n",
        "  fig.show()\n",
        "except ValueError as e:\n",
        "    #handling key errors that may arise from missing 'Insertion Order' or 'Advertiser' errors\n",
        "    print('Could not find the Insertion Order and/or Advertiser values within those columns in your sheets')\n",
        "    print(f\"Invalid input. Details: {e}\")"
      ]
    },
    {
      "cell_type": "markdown",
      "metadata": {
        "id": "rJdREO5-z02T"
      },
      "source": [
        "##Gemini AI Duplicate Reach Insights\n"
      ]
    },
    {
      "cell_type": "code",
      "execution_count": null,
      "metadata": {
        "cellView": "form",
        "id": "AQKb_9nay6E7"
      },
      "outputs": [],
      "source": [
        "# @title\n",
        "\n",
        "try:\n",
        "  csv_data = overlap_df.to_csv(index=False)\n",
        "\n",
        "  prompt = f\"\"\"\n",
        "  Analyze the following DV360 duplicate reach data:\n",
        "  {csv_data}\n",
        "\n",
        "  Each of the numerical data in the cells of this csv is representing the duplicate reach that an advertising buy resulted in.\n",
        "\n",
        "  Higher duplicate reach values can be good if an advertiser wants to increase their ad frequency but lower duplicate reach values are better for increasing overall advertising reach.\n",
        "\n",
        "  Write some insights into this data and give suggestions on budget optimisation based on the level of duplicate reach between insertion orders.\n",
        "\n",
        "  \"\"\"\n",
        "\n",
        "  '''response = client.models.generate_content(\n",
        "      model=\"gemini-2.0-flash\",\n",
        "      config=types.GenerateContentConfig(\n",
        "          system_instruction=\"You are a DV360 marketing analyst at Google\"),\n",
        "      contents=prompt)'''\n",
        "\n",
        "  response = client.models.generate_content(\n",
        "      model=\"gemini-2.0-flash\",\n",
        "      config=types.GenerateContentConfig(\n",
        "          system_instruction=sys_instruct),\n",
        "      contents=prompt)\n",
        "\n",
        "  dup_reach_insights = response.text\n",
        "  print(dup_reach_insights)\n",
        "except NameError as e:\n",
        "  print('Cannot find Unique Reach: Duplicate Reach data within your sheet')\n",
        "  print(f\"Invalid input. Details: {e}\")"
      ]
    },
    {
      "cell_type": "markdown",
      "metadata": {
        "id": "YT5bzC8-hVmt"
      },
      "source": [
        "# **DV360 Reach Overlap Heatmap** 👐\n",
        "\n",
        "---\n",
        "\n"
      ]
    },
    {
      "cell_type": "markdown",
      "metadata": {
        "id": "OWfNESGGoR3k"
      },
      "source": [
        "## All Insertion Orders Heatmap"
      ]
    },
    {
      "cell_type": "code",
      "execution_count": null,
      "metadata": {
        "cellView": "form",
        "id": "TOOaP5sgoOY8"
      },
      "outputs": [],
      "source": [
        "# @title\n",
        "\n",
        "try:\n",
        "  overlap_heatmap_df = overlap_df.set_index(COMPARISON_DIMENSION)\\\n",
        "  .filter(like='Percent', axis=1)\n",
        "\n",
        "  #cleaned_df = overlap_col_cleaner(overlap_heatmap_df)\n",
        "  #control flow for figure size\n",
        "  if ALL_IOs_HEATMAP_SIZE == 'Small':\n",
        "    plt.figure(figsize=(10, 5))\n",
        "  elif ALL_IOs_HEATMAP_SIZE == 'Medium':\n",
        "    plt.figure(figsize=(20, 10))\n",
        "  else:\n",
        "    plt.figure(figsize=(30, 20))\n",
        "\n",
        "  #generate the heatmap, adjust the figsize parameters below to alter the output e.g plt.figure(figsize=(10, 5)) will generate a heatmap with width 10 inches and height 5 inches\n",
        "  #plt.figure(figsize=(30,30))\n",
        "  sns.heatmap(overlap_heatmap_df, cmap=\"Greens\", annot=True, fmt=\".0%\")\n",
        "  plt.title(\"DV360 Reach Overlap Heatmap\\n\")\n",
        "  plt.xlabel(COMPARISON_DIMENSION)\n",
        "  plt.ylabel(COMPARISON_DIMENSION)\n",
        "\n",
        "  #Screenshot the below visualisation into your deck\n",
        "  plt.show()\n",
        "except NameError as e:\n",
        "    #handling key errors that may arise from missing 'Insertion Order' or 'Advertiser' errors\n",
        "    print('Could not find the Reach Overlap % data within your sheet')\n",
        "    print(f\"Invalid input. Details: {e}\")"
      ]
    },
    {
      "cell_type": "markdown",
      "metadata": {
        "id": "ZW7VLR88oYgj"
      },
      "source": [
        "## Filtered Insertion Orders Heatmap"
      ]
    },
    {
      "cell_type": "code",
      "execution_count": null,
      "metadata": {
        "cellView": "form",
        "id": "ZytRaolOM23r"
      },
      "outputs": [],
      "source": [
        "# @title\n",
        "try:\n",
        "  overlap_heatmap_df_filtered = filter_io_rows(overlap_heatmap_df, INCLUDE_ROWS_CONTAINING, EXCLUDE_ROWS_CONTAINING)\n",
        "  overlap_heatmap_df_filtered  = filter_io_cols(overlap_heatmap_df_filtered, INCLUDE_COLS_CONTAINING, EXCLUDE_COLS_CONTAINING)\n",
        "\n",
        "  #control flow for figure size\n",
        "  if FILTERED_IOS_HEATMAP_SIZE == 'Small':\n",
        "    plt.figure(figsize=(10, 5))\n",
        "  elif FILTERED_IOS_HEATMAP_SIZE == 'Medium':\n",
        "    plt.figure(figsize=(20, 10))\n",
        "  else:\n",
        "    plt.figure(figsize=(30, 20))\n",
        "\n",
        "  #generate the heatmap, adjust the figsize parameters below to alter the output e.g plt.figure(figsize=(10, 5)) will generate a heatmap with width 10 inches and height 5 inches\n",
        "  #plt.figure(figsize=(20,10))\n",
        "  sns.heatmap(overlap_heatmap_df_filtered, cmap=\"Greens\", annot=True, fmt=\".0%\")\n",
        "  plt.title(\"DV360 Reach Overlap Heatmap\\n\")\n",
        "  plt.xlabel(COMPARISON_DIMENSION)\n",
        "  plt.ylabel(COMPARISON_DIMENSION)\n",
        "\n",
        "  #Screenshot the below visualisation into your deck\n",
        "  plt.show()\n",
        "except NameError as e:\n",
        "  print('Cannot find Reach Overlap % data within your sheet')\n",
        "  print(f\"Invalid input. Details: {e}\")\n"
      ]
    },
    {
      "cell_type": "markdown",
      "metadata": {
        "id": "eIcGolkK1jZz"
      },
      "source": [
        "##Gemini AI Reach Overlap Percentage Insights\n",
        "\n",
        "\n",
        "\n"
      ]
    },
    {
      "cell_type": "code",
      "execution_count": null,
      "metadata": {
        "cellView": "form",
        "id": "GtLI0baeZJ4r"
      },
      "outputs": [],
      "source": [
        "# @title\n",
        "\n",
        "try:\n",
        "  '''# @title\n",
        "  import google.generativeai as genai\n",
        "  import pandas as pd\n",
        "\n",
        "  from google.colab import userdata\n",
        "  creds = userdata.get('GOOGLE_API_KEY')\n",
        "\n",
        "  genai.configure(api_key=creds)\n",
        "\n",
        "  model = genai.GenerativeModel('gemini-pro')'''\n",
        "\n",
        "  csv_data = overlap_df.to_csv(index=False)\n",
        "\n",
        "  prompt = f\"\"\"\n",
        "  Analyze the following DV360 reach overlap data:\n",
        "  {csv_data}\n",
        "\n",
        "  Each of the numerical data in the cells of this csv is representing percentage values of users that overlap from that insertion order with the column.\n",
        "\n",
        "  Lower reach overlap percentages can be good if an advertiser wants to increase their overall unique reach whereas higher reach overlap percentages can be good if an advertiser wants to increase their average frequency.\n",
        "\n",
        "  Insights are most helpful when relevant to common values in the Insertion order names. Write some insights into this data and give suggestions on budget optimisation based on the level of reach overlap between insertion orders.\n",
        "\n",
        "  \"\"\"\n",
        "\n",
        "  response = client.models.generate_content(\n",
        "      model=\"gemini-2.0-flash\",\n",
        "      config=types.GenerateContentConfig(\n",
        "          system_instruction=sys_instruct),\n",
        "      contents=prompt)\n",
        "\n",
        "  reach_overlap_insights = response.text\n",
        "  print(reach_overlap_insights)\n",
        "except NameError as e:\n",
        "  print('Cannot not construct the reach overlap dataframe from the data within your sheet and could therefore not send the Gemini API anything')\n",
        "  print(f\"Invalid input. Details: {e}\")"
      ]
    },
    {
      "cell_type": "markdown",
      "metadata": {
        "id": "E2tKbiWfcxxi"
      },
      "source": [
        "# Email Report"
      ]
    },
    {
      "cell_type": "code",
      "execution_count": null,
      "metadata": {
        "cellView": "form",
        "id": "RqPpXu2Kcwpg"
      },
      "outputs": [],
      "source": [
        "# @title\n",
        "\n",
        "try:\n",
        "  if VENN_DIAGRAM_IO_ONE != '' and VENN_DIAGRAM_IO_TWO != '':\n",
        "    io_1 = VENN_DIAGRAM_IO_ONE\n",
        "    io_2 = VENN_DIAGRAM_IO_TWO\n",
        "\n",
        "    markdown_email = f\"\"\"\n",
        "    ##DV360 Reach Overlap Analysis: {CLIENT_NAME} - {formatted_date}\n",
        "\n",
        "    Hi {RECEIVER_NAME},\n",
        "\n",
        "    Please find below a summary of the DV360 reach overlap analysis conducted for your campaigns. This analysis aims to provide insights into the reach and frequency of your campaigns, and to identify potential optimization opportunities.\n",
        "\n",
        "    ###1. Venn Diagram Analysis (If Applicable)\n",
        "\n",
        "    **Insert Venn Diagram visual here**\n",
        "\n",
        "\n",
        "    {vd_insights}\n",
        "\n",
        "    ###2. Exclusive Reach Analysis\n",
        "\n",
        "    **Insert Exclusive Reach visual here**\n",
        "\n",
        "\n",
        "    {exc_reach_insights}\n",
        "\n",
        "    ###3. Duplicate Reach Analysis\n",
        "\n",
        "    **Insert Duplicate Reach visual here**\n",
        "\n",
        "\n",
        "    {dup_reach_insights}\n",
        "\n",
        "    ###4. Reach Overlap Percentage Analysis\n",
        "\n",
        "    **Insert Heatmap visual(s) here**\n",
        "\n",
        "\n",
        "    {reach_overlap_insights}\n",
        "\n",
        "    Let me know if you have any questions on the above,\n",
        "\n",
        "    Thanks,\n",
        "\n",
        "    {YOUR_NAME}\n",
        "\n",
        "    \"\"\"\n",
        "    display(Markdown(markdown_email))\n",
        "\n",
        "  else:\n",
        "    markdown_email = f\"\"\"\n",
        "    ## DV360 Reach Overlap Analysis: {CLIENT_NAME} - {formatted_date}\n",
        "\n",
        "    Hi {RECEIVER_NAME},\n",
        "\n",
        "    Please find below a summary of the DV360 reach overlap analysis conducted for your campaigns. This analysis aims to provide insights into the reach and frequency of your campaigns, and to identify potential optimization opportunities.\n",
        "\n",
        "\n",
        "    ### 1. Exclusive Reach Analysis\n",
        "\n",
        "    **Insert Exclusive Reach visual here**\n",
        "\n",
        "\n",
        "    {exc_reach_insights}\n",
        "\n",
        "    ### 2. Duplicate Reach Analysis\n",
        "\n",
        "    **Insert Duplicate Reach visual here**\n",
        "\n",
        "\n",
        "    {dup_reach_insights}\n",
        "\n",
        "    ### 3. Reach Overlap Percentage Analysis\n",
        "\n",
        "    **Insert Heatmap visual(s) here**\n",
        "\n",
        "\n",
        "    {reach_overlap_insights}\n",
        "\n",
        "    Let me know if you have any questions on the above,\n",
        "\n",
        "    Thanks,\n",
        "\n",
        "    {YOUR_NAME}\n",
        "\n",
        "    \"\"\"\n",
        "    display(Markdown(markdown_email))\n",
        "except NameError as e:\n",
        "  print('Cannot find one or more of the AI insights')\n",
        "  print(f\"Invalid input. Details: {e}\")\n"
      ]
    },
    {
      "cell_type": "markdown",
      "metadata": {
        "id": "uuhp605GPbU3"
      },
      "source": [
        "TIP: You can use Gemini AI to summarise this report further in Gmail, Docs or Gemini itself if it is too verbose. Don't forget to paste over the visualisations\n"
      ]
    }
  ],
  "metadata": {
    "colab": {
      "provenance": [],
      "include_colab_link": true
    },
    "kernelspec": {
      "display_name": "Python 3",
      "name": "python3"
    },
    "language_info": {
      "name": "python"
    }
  },
  "nbformat": 4,
  "nbformat_minor": 0
}